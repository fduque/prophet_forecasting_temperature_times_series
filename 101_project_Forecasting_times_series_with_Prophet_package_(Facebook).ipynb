{
  "nbformat": 4,
  "nbformat_minor": 0,
  "metadata": {
    "colab": {
      "name": "101 project - Forecasting times series with Prophet package (Facebook).ipynb",
      "provenance": [],
      "mount_file_id": "13_hopT87SftGafHaE6x-ab197y_xQ92k",
      "authorship_tag": "ABX9TyPygC+OcP+3wsBoKR2n/Vo6",
      "include_colab_link": true
    },
    "kernelspec": {
      "name": "python3",
      "display_name": "Python 3"
    }
  },
  "cells": [
    {
      "cell_type": "markdown",
      "metadata": {
        "id": "view-in-github",
        "colab_type": "text"
      },
      "source": [
        "<a href=\"https://colab.research.google.com/github/fduque/prophet_forecasting_temperature_times_series/blob/master/101_project_Forecasting_times_series_with_Prophet_package_(Facebook).ipynb\" target=\"_parent\"><img src=\"https://colab.research.google.com/assets/colab-badge.svg\" alt=\"Open In Colab\"/></a>"
      ]
    },
    {
      "cell_type": "markdown",
      "metadata": {
        "id": "RcHjPY8hCt46",
        "colab_type": "text"
      },
      "source": [
        "\n",
        "# **Objetivo do projeto**: \n",
        "Realizar a previsão de uma série de dados temporais através da biblioteca -Prophet- desenvolvida e utilizada pelo Facebook.\n",
        "\n",
        "O exemplo abaixo é baseado no case apresentado pelo Cientista de Dados Mário Filho e pode ser conferido em:\n",
        "\n",
        "Canal Mário Filho - https://www.youtube.com/watch?v=4kWROiUYHBc\n",
        "\n",
        "\n",
        "A série é baseada em dados oriundos de estações meteorológicas. A série de dados provém do Kaggle no endereço:\n",
        "\n",
        "https://www.kaggle.com/PROPPG-PPG/hourly-weather-surface-brazil-southeast-region\n",
        "\n",
        "\n",
        "\n",
        "Prophet - O PROFETA\n",
        "\n",
        "Highlights sobre o Prophet:\n",
        "\n",
        "*   Objetivo primário do Prophet: Fazer previsões de séries temporais.\n",
        "*   O Prophet é um procedimento para prever dados de séries temporais com base em um modelo aditivo no qual tendências não lineares se ajustam à sazonalidade anual, semanal e diária, além de efeitos de férias.\n",
        "*   O Prophet foi desenvolvido pelo Facebook\n",
        "*   O Prophet funciona melhor com séries temporais que têm fortes efeitos sazonais e várias temporadas de dados históricos.\n",
        "*   O Prophet é robusto para a falta de dados e mudanças na tendência, e geralmente lida bem com outliers.\n",
        "*   O Prophet aceita times series que não são igualmente espaçadas\n",
        "\n",
        "\n",
        "\n",
        "Referências:\n",
        "\n",
        "Página oficial - https://facebook.github.io/prophet/\n",
        "\n",
        "Canal Mário Filho - https://www.youtube.com/watch?v=4kWROiUYHBc\n",
        "\n",
        "Dataset de Dados climáticos - https://www.kaggle.com/PROPPG-PPG/hourly-weather-surface-brazil-southeast-region\n",
        "\n",
        "\n",
        "\n",
        "\n",
        "\n",
        "\n",
        "\n",
        "\n",
        "\n"
      ]
    },
    {
      "cell_type": "code",
      "metadata": {
        "id": "qk0myG_xKkk_",
        "colab_type": "code",
        "colab": {}
      },
      "source": [
        "import pandas as pd"
      ],
      "execution_count": 0,
      "outputs": []
    },
    {
      "cell_type": "code",
      "metadata": {
        "id": "Q32xJWfmCeoP",
        "colab_type": "code",
        "colab": {}
      },
      "source": [
        "#loading dataset\n",
        "#using parse_dates to converting string to date type\n",
        "data = pd.read_csv(\"sudeste.csv\", parse_dates=['mdct','date'])"
      ],
      "execution_count": 0,
      "outputs": []
    },
    {
      "cell_type": "code",
      "metadata": {
        "id": "ungBkOyrKtKP",
        "colab_type": "code",
        "colab": {}
      },
      "source": [
        "#sorting dataset by mdct (mdct has hourly time)\n",
        "data.sort_values(\"mdct\", inplace=True)"
      ],
      "execution_count": 0,
      "outputs": []
    },
    {
      "cell_type": "code",
      "metadata": {
        "id": "YMwWZ6qjK4hn",
        "colab_type": "code",
        "outputId": "f53e7ec8-0300-421c-884a-c184538539df",
        "colab": {
          "base_uri": "https://localhost:8080/",
          "height": 395
        }
      },
      "source": [
        "pd.set_option(\"display.max_columns\", 31)\n",
        "data.head()"
      ],
      "execution_count": 0,
      "outputs": [
        {
          "output_type": "execute_result",
          "data": {
            "text/html": [
              "<div>\n",
              "<style scoped>\n",
              "    .dataframe tbody tr th:only-of-type {\n",
              "        vertical-align: middle;\n",
              "    }\n",
              "\n",
              "    .dataframe tbody tr th {\n",
              "        vertical-align: top;\n",
              "    }\n",
              "\n",
              "    .dataframe thead th {\n",
              "        text-align: right;\n",
              "    }\n",
              "</style>\n",
              "<table border=\"1\" class=\"dataframe\">\n",
              "  <thead>\n",
              "    <tr style=\"text-align: right;\">\n",
              "      <th></th>\n",
              "      <th>wsid</th>\n",
              "      <th>wsnm</th>\n",
              "      <th>elvt</th>\n",
              "      <th>lat</th>\n",
              "      <th>lon</th>\n",
              "      <th>inme</th>\n",
              "      <th>city</th>\n",
              "      <th>prov</th>\n",
              "      <th>mdct</th>\n",
              "      <th>date</th>\n",
              "      <th>yr</th>\n",
              "      <th>mo</th>\n",
              "      <th>da</th>\n",
              "      <th>hr</th>\n",
              "      <th>prcp</th>\n",
              "      <th>stp</th>\n",
              "      <th>smax</th>\n",
              "      <th>smin</th>\n",
              "      <th>gbrd</th>\n",
              "      <th>temp</th>\n",
              "      <th>dewp</th>\n",
              "      <th>tmax</th>\n",
              "      <th>dmax</th>\n",
              "      <th>tmin</th>\n",
              "      <th>dmin</th>\n",
              "      <th>hmdy</th>\n",
              "      <th>hmax</th>\n",
              "      <th>hmin</th>\n",
              "      <th>wdsp</th>\n",
              "      <th>wdct</th>\n",
              "      <th>gust</th>\n",
              "    </tr>\n",
              "  </thead>\n",
              "  <tbody>\n",
              "    <tr>\n",
              "      <th>782520</th>\n",
              "      <td>312</td>\n",
              "      <td>BARBACENA</td>\n",
              "      <td>1169.0</td>\n",
              "      <td>-21.228373</td>\n",
              "      <td>-43.767703</td>\n",
              "      <td>A502</td>\n",
              "      <td>Barbacena</td>\n",
              "      <td>MG</td>\n",
              "      <td>2002-12-05 00:00:00</td>\n",
              "      <td>2002-12-05</td>\n",
              "      <td>2002.0</td>\n",
              "      <td>12.0</td>\n",
              "      <td>5.0</td>\n",
              "      <td>0.0</td>\n",
              "      <td>0.0</td>\n",
              "      <td>0.0</td>\n",
              "      <td>0.0</td>\n",
              "      <td>0.0</td>\n",
              "      <td>NaN</td>\n",
              "      <td>0.0</td>\n",
              "      <td>0.0</td>\n",
              "      <td>0.0</td>\n",
              "      <td>0.0</td>\n",
              "      <td>0.0</td>\n",
              "      <td>0.0</td>\n",
              "      <td>0.0</td>\n",
              "      <td>0.0</td>\n",
              "      <td>0.0</td>\n",
              "      <td>0.0</td>\n",
              "      <td>0.0</td>\n",
              "      <td>0.0</td>\n",
              "    </tr>\n",
              "    <tr>\n",
              "      <th>782521</th>\n",
              "      <td>312</td>\n",
              "      <td>BARBACENA</td>\n",
              "      <td>1169.0</td>\n",
              "      <td>-21.228373</td>\n",
              "      <td>-43.767703</td>\n",
              "      <td>A502</td>\n",
              "      <td>Barbacena</td>\n",
              "      <td>MG</td>\n",
              "      <td>2002-12-05 01:00:00</td>\n",
              "      <td>2002-12-05</td>\n",
              "      <td>2002.0</td>\n",
              "      <td>12.0</td>\n",
              "      <td>5.0</td>\n",
              "      <td>1.0</td>\n",
              "      <td>0.0</td>\n",
              "      <td>0.0</td>\n",
              "      <td>0.0</td>\n",
              "      <td>0.0</td>\n",
              "      <td>NaN</td>\n",
              "      <td>0.0</td>\n",
              "      <td>0.0</td>\n",
              "      <td>0.0</td>\n",
              "      <td>0.0</td>\n",
              "      <td>0.0</td>\n",
              "      <td>0.0</td>\n",
              "      <td>0.0</td>\n",
              "      <td>0.0</td>\n",
              "      <td>0.0</td>\n",
              "      <td>0.0</td>\n",
              "      <td>0.0</td>\n",
              "      <td>0.0</td>\n",
              "    </tr>\n",
              "    <tr>\n",
              "      <th>782522</th>\n",
              "      <td>312</td>\n",
              "      <td>BARBACENA</td>\n",
              "      <td>1169.0</td>\n",
              "      <td>-21.228373</td>\n",
              "      <td>-43.767703</td>\n",
              "      <td>A502</td>\n",
              "      <td>Barbacena</td>\n",
              "      <td>MG</td>\n",
              "      <td>2002-12-05 02:00:00</td>\n",
              "      <td>2002-12-05</td>\n",
              "      <td>2002.0</td>\n",
              "      <td>12.0</td>\n",
              "      <td>5.0</td>\n",
              "      <td>2.0</td>\n",
              "      <td>0.0</td>\n",
              "      <td>0.0</td>\n",
              "      <td>0.0</td>\n",
              "      <td>0.0</td>\n",
              "      <td>NaN</td>\n",
              "      <td>0.0</td>\n",
              "      <td>0.0</td>\n",
              "      <td>0.0</td>\n",
              "      <td>0.0</td>\n",
              "      <td>0.0</td>\n",
              "      <td>0.0</td>\n",
              "      <td>0.0</td>\n",
              "      <td>0.0</td>\n",
              "      <td>0.0</td>\n",
              "      <td>0.0</td>\n",
              "      <td>0.0</td>\n",
              "      <td>0.0</td>\n",
              "    </tr>\n",
              "    <tr>\n",
              "      <th>782523</th>\n",
              "      <td>312</td>\n",
              "      <td>BARBACENA</td>\n",
              "      <td>1169.0</td>\n",
              "      <td>-21.228373</td>\n",
              "      <td>-43.767703</td>\n",
              "      <td>A502</td>\n",
              "      <td>Barbacena</td>\n",
              "      <td>MG</td>\n",
              "      <td>2002-12-05 03:00:00</td>\n",
              "      <td>2002-12-05</td>\n",
              "      <td>2002.0</td>\n",
              "      <td>12.0</td>\n",
              "      <td>5.0</td>\n",
              "      <td>3.0</td>\n",
              "      <td>0.0</td>\n",
              "      <td>0.0</td>\n",
              "      <td>0.0</td>\n",
              "      <td>0.0</td>\n",
              "      <td>NaN</td>\n",
              "      <td>0.0</td>\n",
              "      <td>0.0</td>\n",
              "      <td>0.0</td>\n",
              "      <td>0.0</td>\n",
              "      <td>0.0</td>\n",
              "      <td>0.0</td>\n",
              "      <td>0.0</td>\n",
              "      <td>0.0</td>\n",
              "      <td>0.0</td>\n",
              "      <td>0.0</td>\n",
              "      <td>0.0</td>\n",
              "      <td>0.0</td>\n",
              "    </tr>\n",
              "    <tr>\n",
              "      <th>782524</th>\n",
              "      <td>312</td>\n",
              "      <td>BARBACENA</td>\n",
              "      <td>1169.0</td>\n",
              "      <td>-21.228373</td>\n",
              "      <td>-43.767703</td>\n",
              "      <td>A502</td>\n",
              "      <td>Barbacena</td>\n",
              "      <td>MG</td>\n",
              "      <td>2002-12-05 04:00:00</td>\n",
              "      <td>2002-12-05</td>\n",
              "      <td>2002.0</td>\n",
              "      <td>12.0</td>\n",
              "      <td>5.0</td>\n",
              "      <td>4.0</td>\n",
              "      <td>0.0</td>\n",
              "      <td>0.0</td>\n",
              "      <td>0.0</td>\n",
              "      <td>0.0</td>\n",
              "      <td>NaN</td>\n",
              "      <td>0.0</td>\n",
              "      <td>0.0</td>\n",
              "      <td>0.0</td>\n",
              "      <td>0.0</td>\n",
              "      <td>0.0</td>\n",
              "      <td>0.0</td>\n",
              "      <td>0.0</td>\n",
              "      <td>0.0</td>\n",
              "      <td>0.0</td>\n",
              "      <td>0.0</td>\n",
              "      <td>0.0</td>\n",
              "      <td>0.0</td>\n",
              "    </tr>\n",
              "  </tbody>\n",
              "</table>\n",
              "</div>"
            ],
            "text/plain": [
              "        wsid       wsnm    elvt        lat        lon  inme       city prov  \\\n",
              "782520   312  BARBACENA  1169.0 -21.228373 -43.767703  A502  Barbacena   MG   \n",
              "782521   312  BARBACENA  1169.0 -21.228373 -43.767703  A502  Barbacena   MG   \n",
              "782522   312  BARBACENA  1169.0 -21.228373 -43.767703  A502  Barbacena   MG   \n",
              "782523   312  BARBACENA  1169.0 -21.228373 -43.767703  A502  Barbacena   MG   \n",
              "782524   312  BARBACENA  1169.0 -21.228373 -43.767703  A502  Barbacena   MG   \n",
              "\n",
              "                      mdct       date      yr    mo   da   hr  prcp  stp  \\\n",
              "782520 2002-12-05 00:00:00 2002-12-05  2002.0  12.0  5.0  0.0   0.0  0.0   \n",
              "782521 2002-12-05 01:00:00 2002-12-05  2002.0  12.0  5.0  1.0   0.0  0.0   \n",
              "782522 2002-12-05 02:00:00 2002-12-05  2002.0  12.0  5.0  2.0   0.0  0.0   \n",
              "782523 2002-12-05 03:00:00 2002-12-05  2002.0  12.0  5.0  3.0   0.0  0.0   \n",
              "782524 2002-12-05 04:00:00 2002-12-05  2002.0  12.0  5.0  4.0   0.0  0.0   \n",
              "\n",
              "        smax  smin  gbrd  temp  dewp  tmax  dmax  tmin  dmin  hmdy  hmax  \\\n",
              "782520   0.0   0.0   NaN   0.0   0.0   0.0   0.0   0.0   0.0   0.0   0.0   \n",
              "782521   0.0   0.0   NaN   0.0   0.0   0.0   0.0   0.0   0.0   0.0   0.0   \n",
              "782522   0.0   0.0   NaN   0.0   0.0   0.0   0.0   0.0   0.0   0.0   0.0   \n",
              "782523   0.0   0.0   NaN   0.0   0.0   0.0   0.0   0.0   0.0   0.0   0.0   \n",
              "782524   0.0   0.0   NaN   0.0   0.0   0.0   0.0   0.0   0.0   0.0   0.0   \n",
              "\n",
              "        hmin  wdsp  wdct  gust  \n",
              "782520   0.0   0.0   0.0   0.0  \n",
              "782521   0.0   0.0   0.0   0.0  \n",
              "782522   0.0   0.0   0.0   0.0  \n",
              "782523   0.0   0.0   0.0   0.0  \n",
              "782524   0.0   0.0   0.0   0.0  "
            ]
          },
          "metadata": {
            "tags": []
          },
          "execution_count": 7
        }
      ]
    },
    {
      "cell_type": "code",
      "metadata": {
        "id": "7AlPdj6vLMH0",
        "colab_type": "code",
        "outputId": "7fa100f8-9ffb-411d-bd4e-318bc6d78c55",
        "colab": {
          "base_uri": "https://localhost:8080/",
          "height": 485
        }
      },
      "source": [
        "#checking how many weather stations per location\n",
        "data['wsnm'].value_counts().head(30)"
      ],
      "execution_count": 0,
      "outputs": [
        {
          "output_type": "execute_result",
          "data": {
            "text/plain": [
              "BARBACENA         121176\n",
              "ALMENARA          120936\n",
              "UBERLÂNDIA        120864\n",
              "ARAXÁ             120840\n",
              "MONTES CLAROS     120840\n",
              "MONTE VERDE       103296\n",
              "VIÇOSA             96816\n",
              "TIMÓTEO            92976\n",
              "ITUIUTABA          91080\n",
              "S.J.DEL REI        90408\n",
              "VARGINHA           89592\n",
              "PASSOS             89472\n",
              "OURO BRANCO        89232\n",
              "MURIAÉ             88440\n",
              "SÃO MATEUS         87096\n",
              "ALEGRE             87096\n",
              "LINHARES           87048\n",
              "VITÓRIA            86952\n",
              "ALFREDO CHAVES     86880\n",
              "JUÍZ DE FORA       81984\n",
              "SANTA TERESA       80184\n",
              "SÃO GONÇALO        78048\n",
              "PRES. KENNEDY      72648\n",
              "NOVA VENECIA       72552\n",
              "AFONSO CLAUDIO     44016\n",
              "CAMPINA VERDE      31172\n",
              "Name: wsnm, dtype: int64"
            ]
          },
          "metadata": {
            "tags": []
          },
          "execution_count": 8
        }
      ]
    },
    {
      "cell_type": "code",
      "metadata": {
        "id": "YjWshzFKZd3w",
        "colab_type": "code",
        "colab": {}
      },
      "source": [
        "#creating dataframes according location\n",
        "data_linhares = data[data['wsnm'] == 'LINHARES']"
      ],
      "execution_count": 0,
      "outputs": []
    },
    {
      "cell_type": "markdown",
      "metadata": {
        "id": "Tt-hBP08SyQC",
        "colab_type": "text"
      },
      "source": [
        "# **Challenge**: \n",
        "Find out a model to forecast the temperature on Christmas Day in LINHARES, a city from Espirito Santo State.\n",
        "\n",
        "\n",
        "---\n",
        "\n"
      ]
    },
    {
      "cell_type": "code",
      "metadata": {
        "id": "2FSct7W_Z_gZ",
        "colab_type": "code",
        "outputId": "a8dfe855-7938-4441-c7cb-60cdbc8f43fe",
        "colab": {
          "base_uri": "https://localhost:8080/",
          "height": 395
        }
      },
      "source": [
        "data_linhares.head()"
      ],
      "execution_count": 0,
      "outputs": [
        {
          "output_type": "execute_result",
          "data": {
            "text/html": [
              "<div>\n",
              "<style scoped>\n",
              "    .dataframe tbody tr th:only-of-type {\n",
              "        vertical-align: middle;\n",
              "    }\n",
              "\n",
              "    .dataframe tbody tr th {\n",
              "        vertical-align: top;\n",
              "    }\n",
              "\n",
              "    .dataframe thead th {\n",
              "        text-align: right;\n",
              "    }\n",
              "</style>\n",
              "<table border=\"1\" class=\"dataframe\">\n",
              "  <thead>\n",
              "    <tr style=\"text-align: right;\">\n",
              "      <th></th>\n",
              "      <th>wsid</th>\n",
              "      <th>wsnm</th>\n",
              "      <th>elvt</th>\n",
              "      <th>lat</th>\n",
              "      <th>lon</th>\n",
              "      <th>inme</th>\n",
              "      <th>city</th>\n",
              "      <th>prov</th>\n",
              "      <th>mdct</th>\n",
              "      <th>date</th>\n",
              "      <th>yr</th>\n",
              "      <th>mo</th>\n",
              "      <th>da</th>\n",
              "      <th>hr</th>\n",
              "      <th>prcp</th>\n",
              "      <th>stp</th>\n",
              "      <th>smax</th>\n",
              "      <th>smin</th>\n",
              "      <th>gbrd</th>\n",
              "      <th>temp</th>\n",
              "      <th>dewp</th>\n",
              "      <th>tmax</th>\n",
              "      <th>dmax</th>\n",
              "      <th>tmin</th>\n",
              "      <th>dmin</th>\n",
              "      <th>hmdy</th>\n",
              "      <th>hmax</th>\n",
              "      <th>hmin</th>\n",
              "      <th>wdsp</th>\n",
              "      <th>wdct</th>\n",
              "      <th>gust</th>\n",
              "    </tr>\n",
              "  </thead>\n",
              "  <tbody>\n",
              "    <tr>\n",
              "      <th>245184</th>\n",
              "      <td>305</td>\n",
              "      <td>LINHARES</td>\n",
              "      <td>38.0</td>\n",
              "      <td>-19.356923</td>\n",
              "      <td>-40.06868</td>\n",
              "      <td>A614</td>\n",
              "      <td>Linhares</td>\n",
              "      <td>ES</td>\n",
              "      <td>2006-10-27 00:00:00</td>\n",
              "      <td>2006-10-27</td>\n",
              "      <td>2006.0</td>\n",
              "      <td>10.0</td>\n",
              "      <td>27.0</td>\n",
              "      <td>0.0</td>\n",
              "      <td>NaN</td>\n",
              "      <td>1009.0</td>\n",
              "      <td>1009.0</td>\n",
              "      <td>1008.5</td>\n",
              "      <td>NaN</td>\n",
              "      <td>20.5</td>\n",
              "      <td>19.9</td>\n",
              "      <td>20.9</td>\n",
              "      <td>20.0</td>\n",
              "      <td>20.5</td>\n",
              "      <td>19.7</td>\n",
              "      <td>96.0</td>\n",
              "      <td>96.0</td>\n",
              "      <td>94.0</td>\n",
              "      <td>0.2</td>\n",
              "      <td>325.0</td>\n",
              "      <td>1.8</td>\n",
              "    </tr>\n",
              "    <tr>\n",
              "      <th>245185</th>\n",
              "      <td>305</td>\n",
              "      <td>LINHARES</td>\n",
              "      <td>38.0</td>\n",
              "      <td>-19.356923</td>\n",
              "      <td>-40.06868</td>\n",
              "      <td>A614</td>\n",
              "      <td>Linhares</td>\n",
              "      <td>ES</td>\n",
              "      <td>2006-10-27 01:00:00</td>\n",
              "      <td>2006-10-27</td>\n",
              "      <td>2006.0</td>\n",
              "      <td>10.0</td>\n",
              "      <td>27.0</td>\n",
              "      <td>1.0</td>\n",
              "      <td>NaN</td>\n",
              "      <td>1008.9</td>\n",
              "      <td>1009.1</td>\n",
              "      <td>1008.8</td>\n",
              "      <td>NaN</td>\n",
              "      <td>20.3</td>\n",
              "      <td>19.9</td>\n",
              "      <td>20.6</td>\n",
              "      <td>20.0</td>\n",
              "      <td>20.1</td>\n",
              "      <td>19.8</td>\n",
              "      <td>98.0</td>\n",
              "      <td>98.0</td>\n",
              "      <td>96.0</td>\n",
              "      <td>0.4</td>\n",
              "      <td>272.0</td>\n",
              "      <td>1.3</td>\n",
              "    </tr>\n",
              "    <tr>\n",
              "      <th>245186</th>\n",
              "      <td>305</td>\n",
              "      <td>LINHARES</td>\n",
              "      <td>38.0</td>\n",
              "      <td>-19.356923</td>\n",
              "      <td>-40.06868</td>\n",
              "      <td>A614</td>\n",
              "      <td>Linhares</td>\n",
              "      <td>ES</td>\n",
              "      <td>2006-10-27 02:00:00</td>\n",
              "      <td>2006-10-27</td>\n",
              "      <td>2006.0</td>\n",
              "      <td>10.0</td>\n",
              "      <td>27.0</td>\n",
              "      <td>2.0</td>\n",
              "      <td>NaN</td>\n",
              "      <td>1008.7</td>\n",
              "      <td>1009.1</td>\n",
              "      <td>1008.7</td>\n",
              "      <td>NaN</td>\n",
              "      <td>20.3</td>\n",
              "      <td>19.9</td>\n",
              "      <td>20.6</td>\n",
              "      <td>20.3</td>\n",
              "      <td>20.2</td>\n",
              "      <td>19.8</td>\n",
              "      <td>98.0</td>\n",
              "      <td>98.0</td>\n",
              "      <td>98.0</td>\n",
              "      <td>1.2</td>\n",
              "      <td>276.0</td>\n",
              "      <td>3.2</td>\n",
              "    </tr>\n",
              "    <tr>\n",
              "      <th>245187</th>\n",
              "      <td>305</td>\n",
              "      <td>LINHARES</td>\n",
              "      <td>38.0</td>\n",
              "      <td>-19.356923</td>\n",
              "      <td>-40.06868</td>\n",
              "      <td>A614</td>\n",
              "      <td>Linhares</td>\n",
              "      <td>ES</td>\n",
              "      <td>2006-10-27 03:00:00</td>\n",
              "      <td>2006-10-27</td>\n",
              "      <td>2006.0</td>\n",
              "      <td>10.0</td>\n",
              "      <td>27.0</td>\n",
              "      <td>3.0</td>\n",
              "      <td>NaN</td>\n",
              "      <td>1008.1</td>\n",
              "      <td>1008.7</td>\n",
              "      <td>1008.1</td>\n",
              "      <td>NaN</td>\n",
              "      <td>20.0</td>\n",
              "      <td>19.7</td>\n",
              "      <td>20.3</td>\n",
              "      <td>20.0</td>\n",
              "      <td>20.0</td>\n",
              "      <td>19.7</td>\n",
              "      <td>98.0</td>\n",
              "      <td>98.0</td>\n",
              "      <td>98.0</td>\n",
              "      <td>0.8</td>\n",
              "      <td>280.0</td>\n",
              "      <td>3.2</td>\n",
              "    </tr>\n",
              "    <tr>\n",
              "      <th>245188</th>\n",
              "      <td>305</td>\n",
              "      <td>LINHARES</td>\n",
              "      <td>38.0</td>\n",
              "      <td>-19.356923</td>\n",
              "      <td>-40.06868</td>\n",
              "      <td>A614</td>\n",
              "      <td>Linhares</td>\n",
              "      <td>ES</td>\n",
              "      <td>2006-10-27 04:00:00</td>\n",
              "      <td>2006-10-27</td>\n",
              "      <td>2006.0</td>\n",
              "      <td>10.0</td>\n",
              "      <td>27.0</td>\n",
              "      <td>4.0</td>\n",
              "      <td>NaN</td>\n",
              "      <td>1006.9</td>\n",
              "      <td>1008.1</td>\n",
              "      <td>1006.9</td>\n",
              "      <td>NaN</td>\n",
              "      <td>19.5</td>\n",
              "      <td>19.2</td>\n",
              "      <td>20.0</td>\n",
              "      <td>19.7</td>\n",
              "      <td>19.5</td>\n",
              "      <td>19.1</td>\n",
              "      <td>98.0</td>\n",
              "      <td>98.0</td>\n",
              "      <td>97.0</td>\n",
              "      <td>0.2</td>\n",
              "      <td>287.0</td>\n",
              "      <td>3.1</td>\n",
              "    </tr>\n",
              "  </tbody>\n",
              "</table>\n",
              "</div>"
            ],
            "text/plain": [
              "        wsid      wsnm  elvt        lat       lon  inme      city prov  \\\n",
              "245184   305  LINHARES  38.0 -19.356923 -40.06868  A614  Linhares   ES   \n",
              "245185   305  LINHARES  38.0 -19.356923 -40.06868  A614  Linhares   ES   \n",
              "245186   305  LINHARES  38.0 -19.356923 -40.06868  A614  Linhares   ES   \n",
              "245187   305  LINHARES  38.0 -19.356923 -40.06868  A614  Linhares   ES   \n",
              "245188   305  LINHARES  38.0 -19.356923 -40.06868  A614  Linhares   ES   \n",
              "\n",
              "                      mdct       date      yr    mo    da   hr  prcp     stp  \\\n",
              "245184 2006-10-27 00:00:00 2006-10-27  2006.0  10.0  27.0  0.0   NaN  1009.0   \n",
              "245185 2006-10-27 01:00:00 2006-10-27  2006.0  10.0  27.0  1.0   NaN  1008.9   \n",
              "245186 2006-10-27 02:00:00 2006-10-27  2006.0  10.0  27.0  2.0   NaN  1008.7   \n",
              "245187 2006-10-27 03:00:00 2006-10-27  2006.0  10.0  27.0  3.0   NaN  1008.1   \n",
              "245188 2006-10-27 04:00:00 2006-10-27  2006.0  10.0  27.0  4.0   NaN  1006.9   \n",
              "\n",
              "          smax    smin  gbrd  temp  dewp  tmax  dmax  tmin  dmin  hmdy  hmax  \\\n",
              "245184  1009.0  1008.5   NaN  20.5  19.9  20.9  20.0  20.5  19.7  96.0  96.0   \n",
              "245185  1009.1  1008.8   NaN  20.3  19.9  20.6  20.0  20.1  19.8  98.0  98.0   \n",
              "245186  1009.1  1008.7   NaN  20.3  19.9  20.6  20.3  20.2  19.8  98.0  98.0   \n",
              "245187  1008.7  1008.1   NaN  20.0  19.7  20.3  20.0  20.0  19.7  98.0  98.0   \n",
              "245188  1008.1  1006.9   NaN  19.5  19.2  20.0  19.7  19.5  19.1  98.0  98.0   \n",
              "\n",
              "        hmin  wdsp   wdct  gust  \n",
              "245184  94.0   0.2  325.0   1.8  \n",
              "245185  96.0   0.4  272.0   1.3  \n",
              "245186  98.0   1.2  276.0   3.2  \n",
              "245187  98.0   0.8  280.0   3.2  \n",
              "245188  97.0   0.2  287.0   3.1  "
            ]
          },
          "metadata": {
            "tags": []
          },
          "execution_count": 10
        }
      ]
    },
    {
      "cell_type": "code",
      "metadata": {
        "id": "DXOr_I3MbIdQ",
        "colab_type": "code",
        "outputId": "f8900097-f574-4969-ad13-a122db7581ad",
        "colab": {
          "base_uri": "https://localhost:8080/",
          "height": 156
        }
      },
      "source": [
        "#creating new column to store ZERO in tmax\n",
        "data_linhares['zero'] = data_linhares['tmax'] == 0"
      ],
      "execution_count": 0,
      "outputs": [
        {
          "output_type": "stream",
          "text": [
            "/usr/local/lib/python3.6/dist-packages/ipykernel_launcher.py:1: SettingWithCopyWarning:\n",
            "\n",
            "\n",
            "A value is trying to be set on a copy of a slice from a DataFrame.\n",
            "Try using .loc[row_indexer,col_indexer] = value instead\n",
            "\n",
            "See the caveats in the documentation: http://pandas.pydata.org/pandas-docs/stable/user_guide/indexing.html#returning-a-view-versus-a-copy\n",
            "\n"
          ],
          "name": "stderr"
        }
      ]
    },
    {
      "cell_type": "code",
      "metadata": {
        "id": "LdKYi-Fkabae",
        "colab_type": "code",
        "outputId": "4b679a26-44a9-4f97-8810-e9d4ae78b282",
        "colab": {
          "base_uri": "https://localhost:8080/",
          "height": 243
        }
      },
      "source": [
        "#summarizing qty of ZERO per year. \n",
        "dates_zero_qty = data_linhares.groupby(data_linhares['date'].dt.year)['zero'].sum()\n",
        "dates_zero_qty"
      ],
      "execution_count": 0,
      "outputs": [
        {
          "output_type": "execute_result",
          "data": {
            "text/plain": [
              "date\n",
              "2006      46.0\n",
              "2007      16.0\n",
              "2008      92.0\n",
              "2009      34.0\n",
              "2010     604.0\n",
              "2011      65.0\n",
              "2012       7.0\n",
              "2013    1186.0\n",
              "2014       6.0\n",
              "2015    1269.0\n",
              "2016       0.0\n",
              "Name: zero, dtype: float64"
            ]
          },
          "metadata": {
            "tags": []
          },
          "execution_count": 12
        }
      ]
    },
    {
      "cell_type": "code",
      "metadata": {
        "id": "HyJvBFIqcZ0O",
        "colab_type": "code",
        "outputId": "d0e0c12e-a377-48e7-b25e-f1517b9d5039",
        "colab": {
          "base_uri": "https://localhost:8080/",
          "height": 243
        }
      },
      "source": [
        "#summarizing qty of dates per year \n",
        "#Reason: check if its meaningful \n",
        "dates_total_qty = data_linhares.groupby(data_linhares['date'].dt.year)['date'].count()\n",
        "dates_total_qty"
      ],
      "execution_count": 0,
      "outputs": [
        {
          "output_type": "execute_result",
          "data": {
            "text/plain": [
              "date\n",
              "2006    1584\n",
              "2007    8760\n",
              "2008    8784\n",
              "2009    8760\n",
              "2010    8760\n",
              "2011    8760\n",
              "2012    8784\n",
              "2013    8760\n",
              "2014    8760\n",
              "2015    8760\n",
              "2016    6576\n",
              "Name: date, dtype: int64"
            ]
          },
          "metadata": {
            "tags": []
          },
          "execution_count": 13
        }
      ]
    },
    {
      "cell_type": "code",
      "metadata": {
        "id": "jeFQCNNZdej7",
        "colab_type": "code",
        "outputId": "62ad391c-55d9-480e-a751-bc53a3a15754",
        "colab": {
          "base_uri": "https://localhost:8080/",
          "height": 260
        }
      },
      "source": [
        "#checking if qty of ZERO against total of points\n",
        "#Reason: check if its meaningful \n",
        "round(dates_zero_qty / dates_total_qty *100,2)"
      ],
      "execution_count": 0,
      "outputs": [
        {
          "output_type": "stream",
          "text": [
            "INFO:numexpr.utils:NumExpr defaulting to 2 threads.\n"
          ],
          "name": "stderr"
        },
        {
          "output_type": "execute_result",
          "data": {
            "text/plain": [
              "date\n",
              "2006     2.90\n",
              "2007     0.18\n",
              "2008     1.05\n",
              "2009     0.39\n",
              "2010     6.89\n",
              "2011     0.74\n",
              "2012     0.08\n",
              "2013    13.54\n",
              "2014     0.07\n",
              "2015    14.49\n",
              "2016     0.00\n",
              "dtype: float64"
            ]
          },
          "metadata": {
            "tags": []
          },
          "execution_count": 14
        }
      ]
    },
    {
      "cell_type": "markdown",
      "metadata": {
        "id": "IJSkR8ZZfwER",
        "colab_type": "text"
      },
      "source": [
        "Result = Qty of ZEROs is too low"
      ]
    },
    {
      "cell_type": "code",
      "metadata": {
        "id": "5i1NLOFzf9rx",
        "colab_type": "code",
        "colab": {}
      },
      "source": [
        "#creating a dataframe that will store Date and Temperature\n",
        "#Prophet just request these only two columns to forecast.\n",
        "tmax = data_linhares[['mdct','tmax']]\n",
        "#Prophet request 'ds' and 'y' as columns names of your dataset\n",
        "tmax.columns = ['ds','y']"
      ],
      "execution_count": 0,
      "outputs": []
    },
    {
      "cell_type": "code",
      "metadata": {
        "id": "S4-S4Y7CgfLa",
        "colab_type": "code",
        "outputId": "d85c505e-d7c7-428c-fc10-8d59580fc397",
        "colab": {
          "base_uri": "https://localhost:8080/",
          "height": 202
        }
      },
      "source": [
        "tmax.tail()"
      ],
      "execution_count": 0,
      "outputs": [
        {
          "output_type": "execute_result",
          "data": {
            "text/html": [
              "<div>\n",
              "<style scoped>\n",
              "    .dataframe tbody tr th:only-of-type {\n",
              "        vertical-align: middle;\n",
              "    }\n",
              "\n",
              "    .dataframe tbody tr th {\n",
              "        vertical-align: top;\n",
              "    }\n",
              "\n",
              "    .dataframe thead th {\n",
              "        text-align: right;\n",
              "    }\n",
              "</style>\n",
              "<table border=\"1\" class=\"dataframe\">\n",
              "  <thead>\n",
              "    <tr style=\"text-align: right;\">\n",
              "      <th></th>\n",
              "      <th>ds</th>\n",
              "      <th>y</th>\n",
              "    </tr>\n",
              "  </thead>\n",
              "  <tbody>\n",
              "    <tr>\n",
              "      <th>332227</th>\n",
              "      <td>2016-09-30 19:00:00</td>\n",
              "      <td>27.5</td>\n",
              "    </tr>\n",
              "    <tr>\n",
              "      <th>332228</th>\n",
              "      <td>2016-09-30 20:00:00</td>\n",
              "      <td>25.5</td>\n",
              "    </tr>\n",
              "    <tr>\n",
              "      <th>332229</th>\n",
              "      <td>2016-09-30 21:00:00</td>\n",
              "      <td>23.9</td>\n",
              "    </tr>\n",
              "    <tr>\n",
              "      <th>332230</th>\n",
              "      <td>2016-09-30 22:00:00</td>\n",
              "      <td>23.2</td>\n",
              "    </tr>\n",
              "    <tr>\n",
              "      <th>332231</th>\n",
              "      <td>2016-09-30 23:00:00</td>\n",
              "      <td>22.9</td>\n",
              "    </tr>\n",
              "  </tbody>\n",
              "</table>\n",
              "</div>"
            ],
            "text/plain": [
              "                        ds     y\n",
              "332227 2016-09-30 19:00:00  27.5\n",
              "332228 2016-09-30 20:00:00  25.5\n",
              "332229 2016-09-30 21:00:00  23.9\n",
              "332230 2016-09-30 22:00:00  23.2\n",
              "332231 2016-09-30 23:00:00  22.9"
            ]
          },
          "metadata": {
            "tags": []
          },
          "execution_count": 16
        }
      ]
    },
    {
      "cell_type": "markdown",
      "metadata": {
        "id": "icNMeeMUYZlU",
        "colab_type": "text"
      },
      "source": [
        "# **Model 1: Using day before**"
      ]
    },
    {
      "cell_type": "code",
      "metadata": {
        "id": "DYHFSxEOgmRZ",
        "colab_type": "code",
        "colab": {}
      },
      "source": [
        "# assumption: test is the following day\n",
        "train = tmax[tmax['ds'].dt.date == pd.to_datetime('2007-12-24')]\n",
        "test = tmax[tmax['ds'].dt.date == pd.to_datetime('2007-12-25')]"
      ],
      "execution_count": 0,
      "outputs": []
    },
    {
      "cell_type": "code",
      "metadata": {
        "id": "8s9hHU1Nhv3E",
        "colab_type": "code",
        "outputId": "a470889f-4fb7-48a3-fd7e-e5f34f078ebd",
        "colab": {
          "base_uri": "https://localhost:8080/",
          "height": 35
        }
      },
      "source": [
        "train.shape, test.shape"
      ],
      "execution_count": 0,
      "outputs": [
        {
          "output_type": "execute_result",
          "data": {
            "text/plain": [
              "((24, 2), (24, 2))"
            ]
          },
          "metadata": {
            "tags": []
          },
          "execution_count": 18
        }
      ]
    },
    {
      "cell_type": "code",
      "metadata": {
        "id": "pGkrcPKgiBCC",
        "colab_type": "code",
        "colab": {}
      },
      "source": [
        "# MAPE = mean absolute percentage error\n",
        "import numpy as np \n",
        "\n",
        "def mape(ytrue, ypred):\n",
        "  ytrue = ytrue.values\n",
        "  ypred = ypred.values\n",
        "  return np.mean( np.abs((ytrue - ypred) / ytrue))"
      ],
      "execution_count": 0,
      "outputs": []
    },
    {
      "cell_type": "code",
      "metadata": {
        "id": "EP1kdZm2iUMW",
        "colab_type": "code",
        "outputId": "7f388635-5486-469c-b2af-bf73a4b97b42",
        "colab": {
          "base_uri": "https://localhost:8080/",
          "height": 35
        }
      },
      "source": [
        "#defining baseline before processing model\n",
        "mapeBaseline = mape(test['y'], train['y'])\n",
        "print(\"Baseline to be beaten:\", mapeBaseline)"
      ],
      "execution_count": 0,
      "outputs": [
        {
          "output_type": "stream",
          "text": [
            "Baseline to be beaten: 0.020237714063247793\n"
          ],
          "name": "stdout"
        }
      ]
    },
    {
      "cell_type": "code",
      "metadata": {
        "id": "O4yn2kdNUBZa",
        "colab_type": "code",
        "colab": {}
      },
      "source": [
        "#defining a function to check if the model has beaten or not the baseline\n",
        "def checkResult(mapeModel, mapeBaseline):\n",
        "  if mapeModel < mapeBaseline:\n",
        "    print(\"Success! The model got better results than baseline. Model:\", mapeModel, \"Baseline:\", mapeBaseline)\n",
        "  else:\n",
        "    print(\"Sorry! Baseline is still better than your model. Try something different. Model:\", mapeModel, \"Baseline:\", mapeBaseline)"
      ],
      "execution_count": 0,
      "outputs": []
    },
    {
      "cell_type": "code",
      "metadata": {
        "id": "waagMolsxeDr",
        "colab_type": "code",
        "outputId": "30d44210-152c-4cdb-f824-c073cb56de80",
        "colab": {
          "base_uri": "https://localhost:8080/",
          "height": 104
        }
      },
      "source": [
        "from fbprophet import Prophet\n",
        "#importando o Prophet\n",
        "# passando o dataset para treinamento do modelo\n",
        "prophet = Prophet()\n",
        "prophet.fit(train)"
      ],
      "execution_count": 0,
      "outputs": [
        {
          "output_type": "stream",
          "text": [
            "INFO:fbprophet:Disabling yearly seasonality. Run prophet with yearly_seasonality=True to override this.\n",
            "INFO:fbprophet:Disabling weekly seasonality. Run prophet with weekly_seasonality=True to override this.\n",
            "INFO:fbprophet:Disabling daily seasonality. Run prophet with daily_seasonality=True to override this.\n",
            "INFO:fbprophet:n_changepoints greater than number of observations.Using 18.\n"
          ],
          "name": "stderr"
        },
        {
          "output_type": "execute_result",
          "data": {
            "text/plain": [
              "<fbprophet.forecaster.Prophet at 0x7f9439c40128>"
            ]
          },
          "metadata": {
            "tags": []
          },
          "execution_count": 22
        }
      ]
    },
    {
      "cell_type": "code",
      "metadata": {
        "id": "26eBKTHhyO41",
        "colab_type": "code",
        "outputId": "77a422fd-063f-4acc-f13f-2beed84666e2",
        "colab": {
          "base_uri": "https://localhost:8080/",
          "height": 202
        }
      },
      "source": [
        "train.tail()"
      ],
      "execution_count": 0,
      "outputs": [
        {
          "output_type": "execute_result",
          "data": {
            "text/html": [
              "<div>\n",
              "<style scoped>\n",
              "    .dataframe tbody tr th:only-of-type {\n",
              "        vertical-align: middle;\n",
              "    }\n",
              "\n",
              "    .dataframe tbody tr th {\n",
              "        vertical-align: top;\n",
              "    }\n",
              "\n",
              "    .dataframe thead th {\n",
              "        text-align: right;\n",
              "    }\n",
              "</style>\n",
              "<table border=\"1\" class=\"dataframe\">\n",
              "  <thead>\n",
              "    <tr style=\"text-align: right;\">\n",
              "      <th></th>\n",
              "      <th>ds</th>\n",
              "      <th>y</th>\n",
              "    </tr>\n",
              "  </thead>\n",
              "  <tbody>\n",
              "    <tr>\n",
              "      <th>255355</th>\n",
              "      <td>2007-12-24 19:00:00</td>\n",
              "      <td>29.0</td>\n",
              "    </tr>\n",
              "    <tr>\n",
              "      <th>255356</th>\n",
              "      <td>2007-12-24 20:00:00</td>\n",
              "      <td>28.4</td>\n",
              "    </tr>\n",
              "    <tr>\n",
              "      <th>255357</th>\n",
              "      <td>2007-12-24 21:00:00</td>\n",
              "      <td>27.2</td>\n",
              "    </tr>\n",
              "    <tr>\n",
              "      <th>255358</th>\n",
              "      <td>2007-12-24 22:00:00</td>\n",
              "      <td>26.0</td>\n",
              "    </tr>\n",
              "    <tr>\n",
              "      <th>255359</th>\n",
              "      <td>2007-12-24 23:00:00</td>\n",
              "      <td>24.8</td>\n",
              "    </tr>\n",
              "  </tbody>\n",
              "</table>\n",
              "</div>"
            ],
            "text/plain": [
              "                        ds     y\n",
              "255355 2007-12-24 19:00:00  29.0\n",
              "255356 2007-12-24 20:00:00  28.4\n",
              "255357 2007-12-24 21:00:00  27.2\n",
              "255358 2007-12-24 22:00:00  26.0\n",
              "255359 2007-12-24 23:00:00  24.8"
            ]
          },
          "metadata": {
            "tags": []
          },
          "execution_count": 23
        }
      ]
    },
    {
      "cell_type": "code",
      "metadata": {
        "id": "klOmhFCfycai",
        "colab_type": "code",
        "colab": {}
      },
      "source": [
        "#make_future_dataframe is a function from Prophet that does the forecast\n",
        "?prophet.make_future_dataframe"
      ],
      "execution_count": 0,
      "outputs": []
    },
    {
      "cell_type": "code",
      "metadata": {
        "id": "jqUmFlP2y2Wn",
        "colab_type": "code",
        "colab": {}
      },
      "source": [
        "#passing parameters for function forecast\n",
        "#par1 = number of periods to be forecast. On this example, 24 hours\n",
        "#par2 = True or False if we want to consider history for make predictions, On this example = False\n",
        "#par3 = frequency of period that we're working on. On this example, Hourly frequency. But would by, D=daily, M=Monthly...\n",
        "\n",
        "future = prophet.make_future_dataframe(24, include_history=False, freq='H')"
      ],
      "execution_count": 0,
      "outputs": []
    },
    {
      "cell_type": "code",
      "metadata": {
        "id": "HGns3lh81PHl",
        "colab_type": "code",
        "outputId": "ac928893-c27d-4cdf-b60a-774588c15893",
        "colab": {
          "base_uri": "https://localhost:8080/",
          "height": 202
        }
      },
      "source": [
        "#future is the dataset created to be used as reference to forecast\n",
        "future.tail()"
      ],
      "execution_count": 0,
      "outputs": [
        {
          "output_type": "execute_result",
          "data": {
            "text/html": [
              "<div>\n",
              "<style scoped>\n",
              "    .dataframe tbody tr th:only-of-type {\n",
              "        vertical-align: middle;\n",
              "    }\n",
              "\n",
              "    .dataframe tbody tr th {\n",
              "        vertical-align: top;\n",
              "    }\n",
              "\n",
              "    .dataframe thead th {\n",
              "        text-align: right;\n",
              "    }\n",
              "</style>\n",
              "<table border=\"1\" class=\"dataframe\">\n",
              "  <thead>\n",
              "    <tr style=\"text-align: right;\">\n",
              "      <th></th>\n",
              "      <th>ds</th>\n",
              "    </tr>\n",
              "  </thead>\n",
              "  <tbody>\n",
              "    <tr>\n",
              "      <th>19</th>\n",
              "      <td>2007-12-25 19:00:00</td>\n",
              "    </tr>\n",
              "    <tr>\n",
              "      <th>20</th>\n",
              "      <td>2007-12-25 20:00:00</td>\n",
              "    </tr>\n",
              "    <tr>\n",
              "      <th>21</th>\n",
              "      <td>2007-12-25 21:00:00</td>\n",
              "    </tr>\n",
              "    <tr>\n",
              "      <th>22</th>\n",
              "      <td>2007-12-25 22:00:00</td>\n",
              "    </tr>\n",
              "    <tr>\n",
              "      <th>23</th>\n",
              "      <td>2007-12-25 23:00:00</td>\n",
              "    </tr>\n",
              "  </tbody>\n",
              "</table>\n",
              "</div>"
            ],
            "text/plain": [
              "                    ds\n",
              "19 2007-12-25 19:00:00\n",
              "20 2007-12-25 20:00:00\n",
              "21 2007-12-25 21:00:00\n",
              "22 2007-12-25 22:00:00\n",
              "23 2007-12-25 23:00:00"
            ]
          },
          "metadata": {
            "tags": []
          },
          "execution_count": 26
        }
      ]
    },
    {
      "cell_type": "code",
      "metadata": {
        "id": "cIYuLJEWzMMl",
        "colab_type": "code",
        "colab": {}
      },
      "source": [
        "#finally, passing FUTURE for the function predict. \n",
        "#FUTURE has the calendar/time series that we want to predict\n",
        "model1_1d = prophet.predict(future)"
      ],
      "execution_count": 0,
      "outputs": []
    },
    {
      "cell_type": "code",
      "metadata": {
        "id": "UevdViQL0Mdl",
        "colab_type": "code",
        "outputId": "7b3f171a-b16d-4764-e9b2-0afef3d5644e",
        "colab": {
          "base_uri": "https://localhost:8080/",
          "height": 395
        }
      },
      "source": [
        "#Result of model 1: Predicting based on the day before\n",
        "model1_1d.tail()"
      ],
      "execution_count": 0,
      "outputs": [
        {
          "output_type": "execute_result",
          "data": {
            "text/html": [
              "<div>\n",
              "<style scoped>\n",
              "    .dataframe tbody tr th:only-of-type {\n",
              "        vertical-align: middle;\n",
              "    }\n",
              "\n",
              "    .dataframe tbody tr th {\n",
              "        vertical-align: top;\n",
              "    }\n",
              "\n",
              "    .dataframe thead th {\n",
              "        text-align: right;\n",
              "    }\n",
              "</style>\n",
              "<table border=\"1\" class=\"dataframe\">\n",
              "  <thead>\n",
              "    <tr style=\"text-align: right;\">\n",
              "      <th></th>\n",
              "      <th>ds</th>\n",
              "      <th>trend</th>\n",
              "      <th>yhat_lower</th>\n",
              "      <th>yhat_upper</th>\n",
              "      <th>trend_lower</th>\n",
              "      <th>trend_upper</th>\n",
              "      <th>additive_terms</th>\n",
              "      <th>additive_terms_lower</th>\n",
              "      <th>additive_terms_upper</th>\n",
              "      <th>multiplicative_terms</th>\n",
              "      <th>multiplicative_terms_lower</th>\n",
              "      <th>multiplicative_terms_upper</th>\n",
              "      <th>yhat</th>\n",
              "    </tr>\n",
              "  </thead>\n",
              "  <tbody>\n",
              "    <tr>\n",
              "      <th>19</th>\n",
              "      <td>2007-12-25 19:00:00</td>\n",
              "      <td>35.032316</td>\n",
              "      <td>32.252084</td>\n",
              "      <td>37.547069</td>\n",
              "      <td>35.028070</td>\n",
              "      <td>35.036837</td>\n",
              "      <td>0.0</td>\n",
              "      <td>0.0</td>\n",
              "      <td>0.0</td>\n",
              "      <td>0.0</td>\n",
              "      <td>0.0</td>\n",
              "      <td>0.0</td>\n",
              "      <td>35.032316</td>\n",
              "    </tr>\n",
              "    <tr>\n",
              "      <th>20</th>\n",
              "      <td>2007-12-25 20:00:00</td>\n",
              "      <td>35.326871</td>\n",
              "      <td>32.566662</td>\n",
              "      <td>38.112334</td>\n",
              "      <td>35.322331</td>\n",
              "      <td>35.331776</td>\n",
              "      <td>0.0</td>\n",
              "      <td>0.0</td>\n",
              "      <td>0.0</td>\n",
              "      <td>0.0</td>\n",
              "      <td>0.0</td>\n",
              "      <td>0.0</td>\n",
              "      <td>35.326871</td>\n",
              "    </tr>\n",
              "    <tr>\n",
              "      <th>21</th>\n",
              "      <td>2007-12-25 21:00:00</td>\n",
              "      <td>35.621427</td>\n",
              "      <td>32.801353</td>\n",
              "      <td>38.164462</td>\n",
              "      <td>35.616472</td>\n",
              "      <td>35.626671</td>\n",
              "      <td>0.0</td>\n",
              "      <td>0.0</td>\n",
              "      <td>0.0</td>\n",
              "      <td>0.0</td>\n",
              "      <td>0.0</td>\n",
              "      <td>0.0</td>\n",
              "      <td>35.621427</td>\n",
              "    </tr>\n",
              "    <tr>\n",
              "      <th>22</th>\n",
              "      <td>2007-12-25 22:00:00</td>\n",
              "      <td>35.915982</td>\n",
              "      <td>33.314174</td>\n",
              "      <td>38.639883</td>\n",
              "      <td>35.910624</td>\n",
              "      <td>35.921601</td>\n",
              "      <td>0.0</td>\n",
              "      <td>0.0</td>\n",
              "      <td>0.0</td>\n",
              "      <td>0.0</td>\n",
              "      <td>0.0</td>\n",
              "      <td>0.0</td>\n",
              "      <td>35.915982</td>\n",
              "    </tr>\n",
              "    <tr>\n",
              "      <th>23</th>\n",
              "      <td>2007-12-25 23:00:00</td>\n",
              "      <td>36.210537</td>\n",
              "      <td>33.357534</td>\n",
              "      <td>38.587707</td>\n",
              "      <td>36.204845</td>\n",
              "      <td>36.216477</td>\n",
              "      <td>0.0</td>\n",
              "      <td>0.0</td>\n",
              "      <td>0.0</td>\n",
              "      <td>0.0</td>\n",
              "      <td>0.0</td>\n",
              "      <td>0.0</td>\n",
              "      <td>36.210537</td>\n",
              "    </tr>\n",
              "  </tbody>\n",
              "</table>\n",
              "</div>"
            ],
            "text/plain": [
              "                    ds      trend  yhat_lower  yhat_upper  trend_lower  \\\n",
              "19 2007-12-25 19:00:00  35.032316   32.252084   37.547069    35.028070   \n",
              "20 2007-12-25 20:00:00  35.326871   32.566662   38.112334    35.322331   \n",
              "21 2007-12-25 21:00:00  35.621427   32.801353   38.164462    35.616472   \n",
              "22 2007-12-25 22:00:00  35.915982   33.314174   38.639883    35.910624   \n",
              "23 2007-12-25 23:00:00  36.210537   33.357534   38.587707    36.204845   \n",
              "\n",
              "    trend_upper  additive_terms  additive_terms_lower  additive_terms_upper  \\\n",
              "19    35.036837             0.0                   0.0                   0.0   \n",
              "20    35.331776             0.0                   0.0                   0.0   \n",
              "21    35.626671             0.0                   0.0                   0.0   \n",
              "22    35.921601             0.0                   0.0                   0.0   \n",
              "23    36.216477             0.0                   0.0                   0.0   \n",
              "\n",
              "    multiplicative_terms  multiplicative_terms_lower  \\\n",
              "19                   0.0                         0.0   \n",
              "20                   0.0                         0.0   \n",
              "21                   0.0                         0.0   \n",
              "22                   0.0                         0.0   \n",
              "23                   0.0                         0.0   \n",
              "\n",
              "    multiplicative_terms_upper       yhat  \n",
              "19                         0.0  35.032316  \n",
              "20                         0.0  35.326871  \n",
              "21                         0.0  35.621427  \n",
              "22                         0.0  35.915982  \n",
              "23                         0.0  36.210537  "
            ]
          },
          "metadata": {
            "tags": []
          },
          "execution_count": 28
        }
      ]
    },
    {
      "cell_type": "code",
      "metadata": {
        "id": "TJsgd_7Mz9OF",
        "colab_type": "code",
        "outputId": "bdfdc717-676f-4559-f126-a692b47f9dd6",
        "colab": {
          "base_uri": "https://localhost:8080/",
          "height": 35
        }
      },
      "source": [
        "#checking MAPE of the model\n",
        "modelResult1 = mape(test['y'], model1_1d['yhat'])\n",
        "checkResult(modelResult1,mapeBaseline)"
      ],
      "execution_count": 0,
      "outputs": [
        {
          "output_type": "stream",
          "text": [
            "Sorry! Baseline is still better than your model. Try something different. Model: 0.29056679066542374 Baseline: 0.020237714063247793\n"
          ],
          "name": "stdout"
        }
      ]
    },
    {
      "cell_type": "code",
      "metadata": {
        "id": "Wf-b9q02B9yB",
        "colab_type": "code",
        "outputId": "76d82ae1-a2ce-4d2e-e71b-6fd3470d5ae5",
        "colab": {
          "base_uri": "https://localhost:8080/",
          "height": 441
        }
      },
      "source": [
        "# creating VIZ in order to check temperature evolution\n",
        "forecast = model1_1d\n",
        "fig1 = prophet.plot(forecast)"
      ],
      "execution_count": 0,
      "outputs": [
        {
          "output_type": "display_data",
          "data": {
            "image/png": "[encoded data removed]",
            "text/plain": [
              "<Figure size 720x432 with 1 Axes>"
            ]
          },
          "metadata": {
            "tags": []
          }
        }
      ]
    },
    {
      "cell_type": "code",
      "metadata": {
        "id": "4ZwdtEyF-rql",
        "colab_type": "code",
        "outputId": "43fb94ec-e348-4fc8-983a-947e9f51cee3",
        "colab": {
          "base_uri": "https://localhost:8080/",
          "height": 451
        }
      },
      "source": [
        "#powerful way to create time series with date_range from pandas\n",
        "pd.date_range('2007-12-24', '2007-12-25 23:59:00', freq='H')"
      ],
      "execution_count": 0,
      "outputs": [
        {
          "output_type": "execute_result",
          "data": {
            "text/plain": [
              "DatetimeIndex(['2007-12-24 00:00:00', '2007-12-24 01:00:00',\n",
              "               '2007-12-24 02:00:00', '2007-12-24 03:00:00',\n",
              "               '2007-12-24 04:00:00', '2007-12-24 05:00:00',\n",
              "               '2007-12-24 06:00:00', '2007-12-24 07:00:00',\n",
              "               '2007-12-24 08:00:00', '2007-12-24 09:00:00',\n",
              "               '2007-12-24 10:00:00', '2007-12-24 11:00:00',\n",
              "               '2007-12-24 12:00:00', '2007-12-24 13:00:00',\n",
              "               '2007-12-24 14:00:00', '2007-12-24 15:00:00',\n",
              "               '2007-12-24 16:00:00', '2007-12-24 17:00:00',\n",
              "               '2007-12-24 18:00:00', '2007-12-24 19:00:00',\n",
              "               '2007-12-24 20:00:00', '2007-12-24 21:00:00',\n",
              "               '2007-12-24 22:00:00', '2007-12-24 23:00:00',\n",
              "               '2007-12-25 00:00:00', '2007-12-25 01:00:00',\n",
              "               '2007-12-25 02:00:00', '2007-12-25 03:00:00',\n",
              "               '2007-12-25 04:00:00', '2007-12-25 05:00:00',\n",
              "               '2007-12-25 06:00:00', '2007-12-25 07:00:00',\n",
              "               '2007-12-25 08:00:00', '2007-12-25 09:00:00',\n",
              "               '2007-12-25 10:00:00', '2007-12-25 11:00:00',\n",
              "               '2007-12-25 12:00:00', '2007-12-25 13:00:00',\n",
              "               '2007-12-25 14:00:00', '2007-12-25 15:00:00',\n",
              "               '2007-12-25 16:00:00', '2007-12-25 17:00:00',\n",
              "               '2007-12-25 18:00:00', '2007-12-25 19:00:00',\n",
              "               '2007-12-25 20:00:00', '2007-12-25 21:00:00',\n",
              "               '2007-12-25 22:00:00', '2007-12-25 23:00:00'],\n",
              "              dtype='datetime64[ns]', freq='H')"
            ]
          },
          "metadata": {
            "tags": []
          },
          "execution_count": 32
        }
      ]
    },
    {
      "cell_type": "markdown",
      "metadata": {
        "id": "YtXuqlOcYDQo",
        "colab_type": "text"
      },
      "source": [
        "# **Model 2: Using 2 days before**"
      ]
    },
    {
      "cell_type": "code",
      "metadata": {
        "id": "wMu1vUe-_Ivn",
        "colab_type": "code",
        "colab": {}
      },
      "source": [
        "train = tmax[tmax['ds'].isin(pd.date_range('2007-12-23', '2007-12-24 23:59:00', freq='H'))]"
      ],
      "execution_count": 0,
      "outputs": []
    },
    {
      "cell_type": "code",
      "metadata": {
        "id": "H-ROkbrC_t20",
        "colab_type": "code",
        "colab": {}
      },
      "source": [
        "def run_prophet(train, test):\n",
        "  prophet = Prophet()\n",
        "  prophet.fit(train)\n",
        "\n",
        "  future = prophet.make_future_dataframe(24,include_history=False,freq='H')\n",
        "  #fcst = forecast\n",
        "  fcst = prophet.predict(future)\n",
        "\n",
        "  return prophet, fcst, mape(test['y'], fcst['yhat'])"
      ],
      "execution_count": 0,
      "outputs": []
    },
    {
      "cell_type": "code",
      "metadata": {
        "id": "d09Hp8i6ALgw",
        "colab_type": "code",
        "outputId": "8872959c-1391-4a6b-c3a6-87ad1fdd9df9",
        "colab": {
          "base_uri": "https://localhost:8080/",
          "height": 69
        }
      },
      "source": [
        "model2_2d = run_prophet(train, test)"
      ],
      "execution_count": 0,
      "outputs": [
        {
          "output_type": "stream",
          "text": [
            "INFO:fbprophet:Disabling yearly seasonality. Run prophet with yearly_seasonality=True to override this.\n",
            "INFO:fbprophet:Disabling weekly seasonality. Run prophet with weekly_seasonality=True to override this.\n",
            "INFO:fbprophet:Disabling daily seasonality. Run prophet with daily_seasonality=True to override this.\n"
          ],
          "name": "stderr"
        }
      ]
    },
    {
      "cell_type": "code",
      "metadata": {
        "id": "OjrBMfO3Aa3Z",
        "colab_type": "code",
        "outputId": "a6e276ff-ab1f-48a8-826b-2ef408c01540",
        "colab": {
          "base_uri": "https://localhost:8080/",
          "height": 35
        }
      },
      "source": [
        "checkResult(model2_2d[-1],mapeBaseline)"
      ],
      "execution_count": 0,
      "outputs": [
        {
          "output_type": "stream",
          "text": [
            "Sorry! Baseline is still better than your model. Try something different. Model: 0.12288413905514504 Baseline: 0.020237714063247793\n"
          ],
          "name": "stdout"
        }
      ]
    },
    {
      "cell_type": "markdown",
      "metadata": {
        "id": "7awH_gAUXtlC",
        "colab_type": "text"
      },
      "source": [
        "# **Model 3: Using 7 days before**"
      ]
    },
    {
      "cell_type": "code",
      "metadata": {
        "id": "kRt6-7EjXdAX",
        "colab_type": "code",
        "colab": {}
      },
      "source": [
        "train = tmax[tmax['ds'].isin(pd.date_range('2007-12-17', '2007-12-24 23:59:00', freq='H'))]"
      ],
      "execution_count": 0,
      "outputs": []
    },
    {
      "cell_type": "code",
      "metadata": {
        "id": "A2hk1r1CX4Qn",
        "colab_type": "code",
        "outputId": "0d38d838-5427-428e-8a24-bc03fce0022e",
        "colab": {
          "base_uri": "https://localhost:8080/",
          "height": 52
        }
      },
      "source": [
        "model3_7d = run_prophet(train, test)"
      ],
      "execution_count": 0,
      "outputs": [
        {
          "output_type": "stream",
          "text": [
            "INFO:fbprophet:Disabling yearly seasonality. Run prophet with yearly_seasonality=True to override this.\n",
            "INFO:fbprophet:Disabling weekly seasonality. Run prophet with weekly_seasonality=True to override this.\n"
          ],
          "name": "stderr"
        }
      ]
    },
    {
      "cell_type": "code",
      "metadata": {
        "id": "lkQ5-Bt9X7-j",
        "colab_type": "code",
        "outputId": "1c7e745c-5f2d-4f5c-cffe-a33e31c368f6",
        "colab": {
          "base_uri": "https://localhost:8080/",
          "height": 35
        }
      },
      "source": [
        "checkResult(model3_7d[-1],mapeBaseline)"
      ],
      "execution_count": 0,
      "outputs": [
        {
          "output_type": "stream",
          "text": [
            "Success! The model got better results than baseline. Model: 0.01722318891162739 Baseline: 0.020237714063247793\n"
          ],
          "name": "stdout"
        }
      ]
    },
    {
      "cell_type": "markdown",
      "metadata": {
        "id": "o_TgrI9XY2NW",
        "colab_type": "text"
      },
      "source": [
        "# **Model 4: Using 1 month before**"
      ]
    },
    {
      "cell_type": "code",
      "metadata": {
        "id": "0OMdAyjMY_Dw",
        "colab_type": "code",
        "colab": {}
      },
      "source": [
        "train = tmax[tmax['ds'].isin(pd.date_range('2007-11-24', '2007-12-24 23:59:00', freq='H'))]"
      ],
      "execution_count": 0,
      "outputs": []
    },
    {
      "cell_type": "code",
      "metadata": {
        "id": "VhS1S3VrZFlc",
        "colab_type": "code",
        "outputId": "a0b8ddd3-b5e2-4bd1-fb48-b541db7b0f4e",
        "colab": {
          "base_uri": "https://localhost:8080/",
          "height": 35
        }
      },
      "source": [
        "model4_1m = run_prophet(train, test)"
      ],
      "execution_count": 0,
      "outputs": [
        {
          "output_type": "stream",
          "text": [
            "INFO:fbprophet:Disabling yearly seasonality. Run prophet with yearly_seasonality=True to override this.\n"
          ],
          "name": "stderr"
        }
      ]
    },
    {
      "cell_type": "code",
      "metadata": {
        "id": "Au5W73nPZHQL",
        "colab_type": "code",
        "outputId": "0e74c3ac-be86-4a96-b4a8-a3529b44a4ed",
        "colab": {
          "base_uri": "https://localhost:8080/",
          "height": 35
        }
      },
      "source": [
        "checkResult(model4_1m[-1],mapeBaseline)"
      ],
      "execution_count": 0,
      "outputs": [
        {
          "output_type": "stream",
          "text": [
            "Sorry! Baseline is still better than your model. Try something different. Model: 0.031495246180189736 Baseline: 0.020237714063247793\n"
          ],
          "name": "stdout"
        }
      ]
    },
    {
      "cell_type": "markdown",
      "metadata": {
        "id": "eL5r3c6wZQmG",
        "colab_type": "text"
      },
      "source": [
        "# **Model 5: Using 2 years before**"
      ]
    },
    {
      "cell_type": "code",
      "metadata": {
        "id": "CTp0EF8OZW6J",
        "colab_type": "code",
        "colab": {}
      },
      "source": [
        "train = tmax[tmax['ds'].isin(pd.date_range('2006-01-01', '2007-12-24 23:59:00', freq='H'))]"
      ],
      "execution_count": 0,
      "outputs": []
    },
    {
      "cell_type": "code",
      "metadata": {
        "id": "ysHbMlBQZpEx",
        "colab_type": "code",
        "outputId": "38221537-5505-4651-d50c-eccb7b5981cd",
        "colab": {
          "base_uri": "https://localhost:8080/",
          "height": 35
        }
      },
      "source": [
        "model5_2y = run_prophet(train, test)"
      ],
      "execution_count": 0,
      "outputs": [
        {
          "output_type": "stream",
          "text": [
            "INFO:fbprophet:Disabling yearly seasonality. Run prophet with yearly_seasonality=True to override this.\n"
          ],
          "name": "stderr"
        }
      ]
    },
    {
      "cell_type": "code",
      "metadata": {
        "id": "On5wUGkDZqH6",
        "colab_type": "code",
        "outputId": "63cd12d0-7e5a-44c4-a0a1-702ac59f8df2",
        "colab": {
          "base_uri": "https://localhost:8080/",
          "height": 35
        }
      },
      "source": [
        "checkResult(model5_2y[-1],mapeBaseline)"
      ],
      "execution_count": 0,
      "outputs": [
        {
          "output_type": "stream",
          "text": [
            "Sorry! Baseline is still better than your model. Try something different. Model: 0.05478009574622145 Baseline: 0.020237714063247793\n"
          ],
          "name": "stdout"
        }
      ]
    },
    {
      "cell_type": "markdown",
      "metadata": {
        "id": "SXC31MdsaTa_",
        "colab_type": "text"
      },
      "source": [
        "# **Winner Model = Model 3 (7 days before)**"
      ]
    },
    {
      "cell_type": "code",
      "metadata": {
        "id": "uUdzWuJhamiz",
        "colab_type": "code",
        "outputId": "87d781c8-73b0-4085-9e9c-0c68799fca44",
        "colab": {
          "base_uri": "https://localhost:8080/",
          "height": 865
        }
      },
      "source": [
        "model3_7d[0].plot_components(model3_7d[1])"
      ],
      "execution_count": 0,
      "outputs": [
        {
          "output_type": "execute_result",
          "data": {
            "image/png": "[encoded data removed]",
            "text/plain": [
              "<Figure size 648x432 with 2 Axes>"
            ]
          },
          "metadata": {
            "tags": []
          },
          "execution_count": 46
        },
        {
          "output_type": "display_data",
          "data": {
            "image/png": "[encoded data removed]",
            "text/plain": [
              "<Figure size 648x432 with 2 Axes>"
            ]
          },
          "metadata": {
            "tags": []
          }
        }
      ]
    },
    {
      "cell_type": "markdown",
      "metadata": {
        "id": "gXbRrtQwfsPx",
        "colab_type": "text"
      },
      "source": [
        "# **Forecasting with Model 3 - Forecasting temperature based on the last 7 days**"
      ]
    },
    {
      "cell_type": "code",
      "metadata": {
        "id": "KN-7LXjSfKPq",
        "colab_type": "code",
        "outputId": "f39f233b-d9d8-4215-bd3a-2e59d4e75bf3",
        "colab": {
          "base_uri": "https://localhost:8080/",
          "height": 441
        }
      },
      "source": [
        "fig_forecast_model3_7d = model3_7d[0].plot(model3_7d[1])\n"
      ],
      "execution_count": 0,
      "outputs": [
        {
          "output_type": "display_data",
          "data": {
            "image/png": "[encoded data removed]",
            "text/plain": [
              "<Figure size 720x432 with 1 Axes>"
            ]
          },
          "metadata": {
            "tags": []
          }
        }
      ]
    },
    {
      "cell_type": "markdown",
      "metadata": {
        "id": "W1QW_c5vw5j-",
        "colab_type": "text"
      },
      "source": [
        "# **Model validation - Cross Validation**"
      ]
    },
    {
      "cell_type": "code",
      "metadata": {
        "id": "y4C-8-nvzWEe",
        "colab_type": "code",
        "colab": {}
      },
      "source": [
        "train = tmax[tmax['ds'].isin(pd.date_range('2006-01-01', '2007-12-24 23:59:00', freq='H'))]"
      ],
      "execution_count": 0,
      "outputs": []
    },
    {
      "cell_type": "code",
      "metadata": {
        "id": "ToSCwQhrzs5_",
        "colab_type": "code",
        "outputId": "8f9a98f7-fa32-4968-d79f-b1cb40b1c2c1",
        "colab": {
          "base_uri": "https://localhost:8080/",
          "height": 55
        }
      },
      "source": [
        "prophet_2006, fcst, erro = run_prophet(train, test)"
      ],
      "execution_count": 0,
      "outputs": [
        {
          "output_type": "stream",
          "text": [
            "INFO:fbprophet:Disabling yearly seasonality. Run prophet with yearly_seasonality=True to override this.\n"
          ],
          "name": "stderr"
        }
      ]
    },
    {
      "cell_type": "code",
      "metadata": {
        "id": "_I8usLdcxEG2",
        "colab_type": "code",
        "outputId": "cd76181f-8983-4394-b82c-0f1f2049a549",
        "colab": {
          "base_uri": "https://localhost:8080/",
          "height": 239
        }
      },
      "source": [
        "#using dignostics from prophet in order to validate the model\n",
        "from fbprophet.diagnostics import cross_validation\n",
        "df_cv = cross_validation(prophet_2006, initial='28 days', period='7 days', horizon = '7 days')\n",
        "df_cv.head()"
      ],
      "execution_count": 0,
      "outputs": [
        {
          "output_type": "stream",
          "text": [
            "INFO:fbprophet:Making 56 forecasts with cutoffs between 2006-11-27 23:00:00 and 2007-12-17 23:00:00\n"
          ],
          "name": "stderr"
        },
        {
          "output_type": "execute_result",
          "data": {
            "text/html": [
              "<div>\n",
              "<style scoped>\n",
              "    .dataframe tbody tr th:only-of-type {\n",
              "        vertical-align: middle;\n",
              "    }\n",
              "\n",
              "    .dataframe tbody tr th {\n",
              "        vertical-align: top;\n",
              "    }\n",
              "\n",
              "    .dataframe thead th {\n",
              "        text-align: right;\n",
              "    }\n",
              "</style>\n",
              "<table border=\"1\" class=\"dataframe\">\n",
              "  <thead>\n",
              "    <tr style=\"text-align: right;\">\n",
              "      <th></th>\n",
              "      <th>ds</th>\n",
              "      <th>yhat</th>\n",
              "      <th>yhat_lower</th>\n",
              "      <th>yhat_upper</th>\n",
              "      <th>y</th>\n",
              "      <th>cutoff</th>\n",
              "    </tr>\n",
              "  </thead>\n",
              "  <tbody>\n",
              "    <tr>\n",
              "      <th>0</th>\n",
              "      <td>2006-11-28 00:00:00</td>\n",
              "      <td>25.075320</td>\n",
              "      <td>22.903354</td>\n",
              "      <td>27.643381</td>\n",
              "      <td>24.9</td>\n",
              "      <td>2006-11-27 23:00:00</td>\n",
              "    </tr>\n",
              "    <tr>\n",
              "      <th>1</th>\n",
              "      <td>2006-11-28 01:00:00</td>\n",
              "      <td>25.135387</td>\n",
              "      <td>22.694994</td>\n",
              "      <td>27.541320</td>\n",
              "      <td>25.1</td>\n",
              "      <td>2006-11-27 23:00:00</td>\n",
              "    </tr>\n",
              "    <tr>\n",
              "      <th>2</th>\n",
              "      <td>2006-11-28 02:00:00</td>\n",
              "      <td>25.128817</td>\n",
              "      <td>22.814904</td>\n",
              "      <td>27.533009</td>\n",
              "      <td>25.0</td>\n",
              "      <td>2006-11-27 23:00:00</td>\n",
              "    </tr>\n",
              "    <tr>\n",
              "      <th>3</th>\n",
              "      <td>2006-11-28 03:00:00</td>\n",
              "      <td>24.970175</td>\n",
              "      <td>22.590029</td>\n",
              "      <td>27.367723</td>\n",
              "      <td>24.8</td>\n",
              "      <td>2006-11-27 23:00:00</td>\n",
              "    </tr>\n",
              "    <tr>\n",
              "      <th>4</th>\n",
              "      <td>2006-11-28 04:00:00</td>\n",
              "      <td>24.719633</td>\n",
              "      <td>22.246902</td>\n",
              "      <td>27.170166</td>\n",
              "      <td>24.7</td>\n",
              "      <td>2006-11-27 23:00:00</td>\n",
              "    </tr>\n",
              "  </tbody>\n",
              "</table>\n",
              "</div>"
            ],
            "text/plain": [
              "                   ds       yhat  yhat_lower  yhat_upper     y  \\\n",
              "0 2006-11-28 00:00:00  25.075320   22.903354   27.643381  24.9   \n",
              "1 2006-11-28 01:00:00  25.135387   22.694994   27.541320  25.1   \n",
              "2 2006-11-28 02:00:00  25.128817   22.814904   27.533009  25.0   \n",
              "3 2006-11-28 03:00:00  24.970175   22.590029   27.367723  24.8   \n",
              "4 2006-11-28 04:00:00  24.719633   22.246902   27.170166  24.7   \n",
              "\n",
              "               cutoff  \n",
              "0 2006-11-27 23:00:00  \n",
              "1 2006-11-27 23:00:00  \n",
              "2 2006-11-27 23:00:00  \n",
              "3 2006-11-27 23:00:00  \n",
              "4 2006-11-27 23:00:00  "
            ]
          },
          "metadata": {
            "tags": []
          },
          "execution_count": 60
        }
      ]
    },
    {
      "cell_type": "code",
      "metadata": {
        "id": "PwyKHYsR2XP3",
        "colab_type": "code",
        "colab": {}
      },
      "source": [
        "#using metrics from prophet to check the errors\n",
        "from fbprophet.diagnostics import performance_metrics"
      ],
      "execution_count": 0,
      "outputs": []
    },
    {
      "cell_type": "code",
      "metadata": {
        "id": "JJdb47VC23tQ",
        "colab_type": "code",
        "outputId": "a822b34b-8739-4984-bbff-5268cdad962c",
        "colab": {
          "base_uri": "https://localhost:8080/",
          "height": 433
        }
      },
      "source": [
        "#below the table describe the error for each hour \n",
        "#coverage = % how many times the real point was between the range forecasted\n",
        "performance_metrics(df_cv)"
      ],
      "execution_count": 0,
      "outputs": [
        {
          "output_type": "stream",
          "text": [
            "INFO:fbprophet:Skipping MAPE because y close to 0\n"
          ],
          "name": "stderr"
        },
        {
          "output_type": "execute_result",
          "data": {
            "text/html": [
              "<div>\n",
              "<style scoped>\n",
              "    .dataframe tbody tr th:only-of-type {\n",
              "        vertical-align: middle;\n",
              "    }\n",
              "\n",
              "    .dataframe tbody tr th {\n",
              "        vertical-align: top;\n",
              "    }\n",
              "\n",
              "    .dataframe thead th {\n",
              "        text-align: right;\n",
              "    }\n",
              "</style>\n",
              "<table border=\"1\" class=\"dataframe\">\n",
              "  <thead>\n",
              "    <tr style=\"text-align: right;\">\n",
              "      <th></th>\n",
              "      <th>horizon</th>\n",
              "      <th>mse</th>\n",
              "      <th>rmse</th>\n",
              "      <th>mae</th>\n",
              "      <th>coverage</th>\n",
              "    </tr>\n",
              "  </thead>\n",
              "  <tbody>\n",
              "    <tr>\n",
              "      <th>0</th>\n",
              "      <td>0 days 17:00:00</td>\n",
              "      <td>10.321216</td>\n",
              "      <td>3.212665</td>\n",
              "      <td>1.698400</td>\n",
              "      <td>0.937082</td>\n",
              "    </tr>\n",
              "    <tr>\n",
              "      <th>1</th>\n",
              "      <td>0 days 18:00:00</td>\n",
              "      <td>9.705660</td>\n",
              "      <td>3.115391</td>\n",
              "      <td>1.702881</td>\n",
              "      <td>0.932827</td>\n",
              "    </tr>\n",
              "    <tr>\n",
              "      <th>2</th>\n",
              "      <td>0 days 19:00:00</td>\n",
              "      <td>9.415409</td>\n",
              "      <td>3.068454</td>\n",
              "      <td>1.717143</td>\n",
              "      <td>0.928343</td>\n",
              "    </tr>\n",
              "    <tr>\n",
              "      <th>3</th>\n",
              "      <td>0 days 20:00:00</td>\n",
              "      <td>9.512310</td>\n",
              "      <td>3.084203</td>\n",
              "      <td>1.748366</td>\n",
              "      <td>0.923480</td>\n",
              "    </tr>\n",
              "    <tr>\n",
              "      <th>4</th>\n",
              "      <td>0 days 21:00:00</td>\n",
              "      <td>9.054013</td>\n",
              "      <td>3.008989</td>\n",
              "      <td>1.751567</td>\n",
              "      <td>0.920289</td>\n",
              "    </tr>\n",
              "    <tr>\n",
              "      <th>...</th>\n",
              "      <td>...</td>\n",
              "      <td>...</td>\n",
              "      <td>...</td>\n",
              "      <td>...</td>\n",
              "      <td>...</td>\n",
              "    </tr>\n",
              "    <tr>\n",
              "      <th>147</th>\n",
              "      <td>6 days 20:00:00</td>\n",
              "      <td>17.590737</td>\n",
              "      <td>4.194131</td>\n",
              "      <td>2.328714</td>\n",
              "      <td>0.884726</td>\n",
              "    </tr>\n",
              "    <tr>\n",
              "      <th>148</th>\n",
              "      <td>6 days 21:00:00</td>\n",
              "      <td>18.029142</td>\n",
              "      <td>4.246074</td>\n",
              "      <td>2.378945</td>\n",
              "      <td>0.875152</td>\n",
              "    </tr>\n",
              "    <tr>\n",
              "      <th>149</th>\n",
              "      <td>6 days 22:00:00</td>\n",
              "      <td>18.330143</td>\n",
              "      <td>4.281372</td>\n",
              "      <td>2.413484</td>\n",
              "      <td>0.868769</td>\n",
              "    </tr>\n",
              "    <tr>\n",
              "      <th>150</th>\n",
              "      <td>6 days 23:00:00</td>\n",
              "      <td>18.506207</td>\n",
              "      <td>4.301884</td>\n",
              "      <td>2.429655</td>\n",
              "      <td>0.866641</td>\n",
              "    </tr>\n",
              "    <tr>\n",
              "      <th>151</th>\n",
              "      <td>7 days 00:00:00</td>\n",
              "      <td>18.626902</td>\n",
              "      <td>4.315889</td>\n",
              "      <td>2.438643</td>\n",
              "      <td>0.863450</td>\n",
              "    </tr>\n",
              "  </tbody>\n",
              "</table>\n",
              "<p>152 rows × 5 columns</p>\n",
              "</div>"
            ],
            "text/plain": [
              "            horizon        mse      rmse       mae  coverage\n",
              "0   0 days 17:00:00  10.321216  3.212665  1.698400  0.937082\n",
              "1   0 days 18:00:00   9.705660  3.115391  1.702881  0.932827\n",
              "2   0 days 19:00:00   9.415409  3.068454  1.717143  0.928343\n",
              "3   0 days 20:00:00   9.512310  3.084203  1.748366  0.923480\n",
              "4   0 days 21:00:00   9.054013  3.008989  1.751567  0.920289\n",
              "..              ...        ...       ...       ...       ...\n",
              "147 6 days 20:00:00  17.590737  4.194131  2.328714  0.884726\n",
              "148 6 days 21:00:00  18.029142  4.246074  2.378945  0.875152\n",
              "149 6 days 22:00:00  18.330143  4.281372  2.413484  0.868769\n",
              "150 6 days 23:00:00  18.506207  4.301884  2.429655  0.866641\n",
              "151 7 days 00:00:00  18.626902  4.315889  2.438643  0.863450\n",
              "\n",
              "[152 rows x 5 columns]"
            ]
          },
          "metadata": {
            "tags": []
          },
          "execution_count": 62
        }
      ]
    },
    {
      "cell_type": "markdown",
      "metadata": {
        "id": "LmxX94Bu37AX",
        "colab_type": "text"
      },
      "source": [
        "As show aboveve, coverage column, the range predicted is 86% right"
      ]
    },
    {
      "cell_type": "code",
      "metadata": {
        "id": "d4HKgcfV6SBb",
        "colab_type": "code",
        "outputId": "1a13d924-5cbc-42f4-8a31-4b32bb051947",
        "colab": {
          "base_uri": "https://localhost:8080/",
          "height": 415
        }
      },
      "source": [
        "#removing zeros from dataset\n",
        "df_cv_nonzero = df_cv[df_cv['y'] != 0]\n",
        "perf = performance_metrics(df_cv_nonzero)\n",
        "perf.sort_values(\"horizon\")"
      ],
      "execution_count": 0,
      "outputs": [
        {
          "output_type": "execute_result",
          "data": {
            "text/html": [
              "<div>\n",
              "<style scoped>\n",
              "    .dataframe tbody tr th:only-of-type {\n",
              "        vertical-align: middle;\n",
              "    }\n",
              "\n",
              "    .dataframe tbody tr th {\n",
              "        vertical-align: top;\n",
              "    }\n",
              "\n",
              "    .dataframe thead th {\n",
              "        text-align: right;\n",
              "    }\n",
              "</style>\n",
              "<table border=\"1\" class=\"dataframe\">\n",
              "  <thead>\n",
              "    <tr style=\"text-align: right;\">\n",
              "      <th></th>\n",
              "      <th>horizon</th>\n",
              "      <th>mse</th>\n",
              "      <th>rmse</th>\n",
              "      <th>mae</th>\n",
              "      <th>mape</th>\n",
              "      <th>coverage</th>\n",
              "    </tr>\n",
              "  </thead>\n",
              "  <tbody>\n",
              "    <tr>\n",
              "      <th>0</th>\n",
              "      <td>0 days 17:00:00</td>\n",
              "      <td>3.289793</td>\n",
              "      <td>1.813779</td>\n",
              "      <td>1.371108</td>\n",
              "      <td>0.058148</td>\n",
              "      <td>0.954001</td>\n",
              "    </tr>\n",
              "    <tr>\n",
              "      <th>1</th>\n",
              "      <td>0 days 18:00:00</td>\n",
              "      <td>3.603652</td>\n",
              "      <td>1.898329</td>\n",
              "      <td>1.417328</td>\n",
              "      <td>0.059163</td>\n",
              "      <td>0.947656</td>\n",
              "    </tr>\n",
              "    <tr>\n",
              "      <th>2</th>\n",
              "      <td>0 days 19:00:00</td>\n",
              "      <td>3.937075</td>\n",
              "      <td>1.984206</td>\n",
              "      <td>1.462058</td>\n",
              "      <td>0.060154</td>\n",
              "      <td>0.941400</td>\n",
              "    </tr>\n",
              "    <tr>\n",
              "      <th>3</th>\n",
              "      <td>0 days 20:00:00</td>\n",
              "      <td>4.190491</td>\n",
              "      <td>2.047069</td>\n",
              "      <td>1.500646</td>\n",
              "      <td>0.060962</td>\n",
              "      <td>0.936058</td>\n",
              "    </tr>\n",
              "    <tr>\n",
              "      <th>4</th>\n",
              "      <td>0 days 21:00:00</td>\n",
              "      <td>4.405904</td>\n",
              "      <td>2.099025</td>\n",
              "      <td>1.537916</td>\n",
              "      <td>0.061829</td>\n",
              "      <td>0.930952</td>\n",
              "    </tr>\n",
              "    <tr>\n",
              "      <th>...</th>\n",
              "      <td>...</td>\n",
              "      <td>...</td>\n",
              "      <td>...</td>\n",
              "      <td>...</td>\n",
              "      <td>...</td>\n",
              "      <td>...</td>\n",
              "    </tr>\n",
              "    <tr>\n",
              "      <th>147</th>\n",
              "      <td>6 days 20:00:00</td>\n",
              "      <td>6.284189</td>\n",
              "      <td>2.506828</td>\n",
              "      <td>1.897775</td>\n",
              "      <td>0.075522</td>\n",
              "      <td>0.902570</td>\n",
              "    </tr>\n",
              "    <tr>\n",
              "      <th>148</th>\n",
              "      <td>6 days 21:00:00</td>\n",
              "      <td>6.561069</td>\n",
              "      <td>2.561458</td>\n",
              "      <td>1.944532</td>\n",
              "      <td>0.076565</td>\n",
              "      <td>0.892934</td>\n",
              "    </tr>\n",
              "    <tr>\n",
              "      <th>149</th>\n",
              "      <td>6 days 22:00:00</td>\n",
              "      <td>6.746123</td>\n",
              "      <td>2.597330</td>\n",
              "      <td>1.977235</td>\n",
              "      <td>0.077288</td>\n",
              "      <td>0.886510</td>\n",
              "    </tr>\n",
              "    <tr>\n",
              "      <th>150</th>\n",
              "      <td>6 days 23:00:00</td>\n",
              "      <td>6.842117</td>\n",
              "      <td>2.615744</td>\n",
              "      <td>1.991855</td>\n",
              "      <td>0.077492</td>\n",
              "      <td>0.884368</td>\n",
              "    </tr>\n",
              "    <tr>\n",
              "      <th>151</th>\n",
              "      <td>7 days 00:00:00</td>\n",
              "      <td>6.903415</td>\n",
              "      <td>2.627435</td>\n",
              "      <td>1.999778</td>\n",
              "      <td>0.077525</td>\n",
              "      <td>0.881156</td>\n",
              "    </tr>\n",
              "  </tbody>\n",
              "</table>\n",
              "<p>152 rows × 6 columns</p>\n",
              "</div>"
            ],
            "text/plain": [
              "            horizon       mse      rmse       mae      mape  coverage\n",
              "0   0 days 17:00:00  3.289793  1.813779  1.371108  0.058148  0.954001\n",
              "1   0 days 18:00:00  3.603652  1.898329  1.417328  0.059163  0.947656\n",
              "2   0 days 19:00:00  3.937075  1.984206  1.462058  0.060154  0.941400\n",
              "3   0 days 20:00:00  4.190491  2.047069  1.500646  0.060962  0.936058\n",
              "4   0 days 21:00:00  4.405904  2.099025  1.537916  0.061829  0.930952\n",
              "..              ...       ...       ...       ...       ...       ...\n",
              "147 6 days 20:00:00  6.284189  2.506828  1.897775  0.075522  0.902570\n",
              "148 6 days 21:00:00  6.561069  2.561458  1.944532  0.076565  0.892934\n",
              "149 6 days 22:00:00  6.746123  2.597330  1.977235  0.077288  0.886510\n",
              "150 6 days 23:00:00  6.842117  2.615744  1.991855  0.077492  0.884368\n",
              "151 7 days 00:00:00  6.903415  2.627435  1.999778  0.077525  0.881156\n",
              "\n",
              "[152 rows x 6 columns]"
            ]
          },
          "metadata": {
            "tags": []
          },
          "execution_count": 66
        }
      ]
    },
    {
      "cell_type": "code",
      "metadata": {
        "id": "FI72dStT2-z0",
        "colab_type": "code",
        "colab": {}
      },
      "source": [
        "from fbprophet.plot import plot_cross_validation_metric"
      ],
      "execution_count": 0,
      "outputs": []
    },
    {
      "cell_type": "code",
      "metadata": {
        "id": "83dEU-H84YHr",
        "colab_type": "code",
        "outputId": "6965b468-9678-4b91-e73d-90cbc2e4e2d1",
        "colab": {
          "base_uri": "https://localhost:8080/",
          "height": 759
        }
      },
      "source": [
        "#the blue line is the error \n",
        "plot_cross_validation_metric(df_cv_nonzero, 'mape')"
      ],
      "execution_count": 0,
      "outputs": [
        {
          "output_type": "execute_result",
          "data": {
            "image/png": "[encoded data removed]",
            "text/plain": [
              "<Figure size 720x432 with 1 Axes>"
            ]
          },
          "metadata": {
            "tags": []
          },
          "execution_count": 68
        },
        {
          "output_type": "display_data",
          "data": {
            "image/png": "[encoded data removed]",
            "text/plain": [
              "<Figure size 720x432 with 1 Axes>"
            ]
          },
          "metadata": {
            "tags": []
          }
        }
      ]
    }
  ]
}